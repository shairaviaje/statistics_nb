{
 "cells": [
  {
   "attachments": {},
   "cell_type": "markdown",
   "id": "dc024f03",
   "metadata": {},
   "source": [
    "# Chi Squared Test"
   ]
  },
  {
   "attachments": {},
   "cell_type": "markdown",
   "id": "451c4a37",
   "metadata": {},
   "source": [
    "Some Motivation\n",
    "\n",
    "If we roll a die, we have 1/6 chance of getting any number. \n",
    "\n",
    "Therefore, if we roll a die many times, we would expect each number to appear an equal number of times, i.e. a uniform distribution. \n",
    "\n",
    "For example:\n",
    "\n",
    "the following code simulates rolling a die. Try running it multiple times - you may be getting a different number between 1 and 6 each time."
   ]
  },
  {
   "cell_type": "code",
   "execution_count": 10,
   "id": "74ce01c6",
   "metadata": {
    "vscode": {
     "languageId": "r"
    }
   },
   "outputs": [
    {
     "data": {
      "text/html": [
       "4"
      ],
      "text/latex": [
       "4"
      ],
      "text/markdown": [
       "4"
      ],
      "text/plain": [
       "[1] 4"
      ]
     },
     "metadata": {},
     "output_type": "display_data"
    }
   ],
   "source": [
    "sample(1:6, 1, replace = TRUE)"
   ]
  },
  {
   "cell_type": "markdown",
   "id": "270c6fbc",
   "metadata": {},
   "source": [
    "Did any number appear more often than others? Did every number appear the same amount of times, like we expected? \n",
    "\n",
    "If we want to simulate, we can increase the number of values as so: "
   ]
  },
  {
   "cell_type": "code",
   "execution_count": 18,
   "id": "f51b47ad",
   "metadata": {
    "vscode": {
     "languageId": "r"
    }
   },
   "outputs": [
    {
     "data": {
      "text/html": [
       "<style>\n",
       ".list-inline {list-style: none; margin:0; padding: 0}\n",
       ".list-inline>li {display: inline-block}\n",
       ".list-inline>li:not(:last-child)::after {content: \"\\00b7\"; padding: 0 .5ex}\n",
       "</style>\n",
       "<ol class=list-inline><li>3</li><li>4</li><li>5</li><li>4</li><li>1</li><li>4</li><li>5</li><li>6</li><li>6</li><li>2</li><li>2</li><li>5</li><li>6</li><li>4</li><li>2</li><li>6</li><li>4</li><li>6</li><li>5</li><li>4</li><li>5</li><li>4</li><li>2</li><li>5</li><li>2</li><li>4</li><li>2</li><li>6</li><li>3</li><li>5</li><li>6</li><li>2</li><li>5</li><li>2</li><li>3</li><li>2</li><li>5</li><li>1</li><li>2</li><li>4</li><li>1</li><li>2</li><li>1</li><li>4</li><li>3</li><li>6</li><li>6</li><li>1</li><li>2</li><li>5</li><li>1</li><li>1</li><li>1</li><li>1</li><li>1</li><li>4</li><li>2</li><li>4</li><li>2</li><li>6</li><li>1</li><li>6</li><li>1</li><li>5</li><li>3</li><li>4</li><li>5</li><li>5</li><li>5</li><li>4</li><li>4</li><li>3</li><li>3</li><li>3</li><li>3</li><li>3</li><li>1</li><li>4</li><li>3</li><li>6</li><li>1</li><li>4</li><li>1</li><li>4</li><li>5</li><li>2</li><li>5</li><li>5</li><li>3</li><li>1</li><li>1</li><li>5</li><li>4</li><li>2</li><li>6</li><li>2</li><li>3</li><li>3</li><li>5</li><li>5</li><li>2</li><li>2</li><li>2</li><li>6</li><li>6</li><li>1</li><li>6</li><li>5</li><li>5</li><li>2</li><li>3</li><li>6</li><li>6</li><li>2</li><li>5</li><li>3</li><li>1</li><li>6</li><li>3</li><li>1</li></ol>\n"
      ],
      "text/latex": [
       "\\begin{enumerate*}\n",
       "\\item 3\n",
       "\\item 4\n",
       "\\item 5\n",
       "\\item 4\n",
       "\\item 1\n",
       "\\item 4\n",
       "\\item 5\n",
       "\\item 6\n",
       "\\item 6\n",
       "\\item 2\n",
       "\\item 2\n",
       "\\item 5\n",
       "\\item 6\n",
       "\\item 4\n",
       "\\item 2\n",
       "\\item 6\n",
       "\\item 4\n",
       "\\item 6\n",
       "\\item 5\n",
       "\\item 4\n",
       "\\item 5\n",
       "\\item 4\n",
       "\\item 2\n",
       "\\item 5\n",
       "\\item 2\n",
       "\\item 4\n",
       "\\item 2\n",
       "\\item 6\n",
       "\\item 3\n",
       "\\item 5\n",
       "\\item 6\n",
       "\\item 2\n",
       "\\item 5\n",
       "\\item 2\n",
       "\\item 3\n",
       "\\item 2\n",
       "\\item 5\n",
       "\\item 1\n",
       "\\item 2\n",
       "\\item 4\n",
       "\\item 1\n",
       "\\item 2\n",
       "\\item 1\n",
       "\\item 4\n",
       "\\item 3\n",
       "\\item 6\n",
       "\\item 6\n",
       "\\item 1\n",
       "\\item 2\n",
       "\\item 5\n",
       "\\item 1\n",
       "\\item 1\n",
       "\\item 1\n",
       "\\item 1\n",
       "\\item 1\n",
       "\\item 4\n",
       "\\item 2\n",
       "\\item 4\n",
       "\\item 2\n",
       "\\item 6\n",
       "\\item 1\n",
       "\\item 6\n",
       "\\item 1\n",
       "\\item 5\n",
       "\\item 3\n",
       "\\item 4\n",
       "\\item 5\n",
       "\\item 5\n",
       "\\item 5\n",
       "\\item 4\n",
       "\\item 4\n",
       "\\item 3\n",
       "\\item 3\n",
       "\\item 3\n",
       "\\item 3\n",
       "\\item 3\n",
       "\\item 1\n",
       "\\item 4\n",
       "\\item 3\n",
       "\\item 6\n",
       "\\item 1\n",
       "\\item 4\n",
       "\\item 1\n",
       "\\item 4\n",
       "\\item 5\n",
       "\\item 2\n",
       "\\item 5\n",
       "\\item 5\n",
       "\\item 3\n",
       "\\item 1\n",
       "\\item 1\n",
       "\\item 5\n",
       "\\item 4\n",
       "\\item 2\n",
       "\\item 6\n",
       "\\item 2\n",
       "\\item 3\n",
       "\\item 3\n",
       "\\item 5\n",
       "\\item 5\n",
       "\\item 2\n",
       "\\item 2\n",
       "\\item 2\n",
       "\\item 6\n",
       "\\item 6\n",
       "\\item 1\n",
       "\\item 6\n",
       "\\item 5\n",
       "\\item 5\n",
       "\\item 2\n",
       "\\item 3\n",
       "\\item 6\n",
       "\\item 6\n",
       "\\item 2\n",
       "\\item 5\n",
       "\\item 3\n",
       "\\item 1\n",
       "\\item 6\n",
       "\\item 3\n",
       "\\item 1\n",
       "\\end{enumerate*}\n"
      ],
      "text/markdown": [
       "1. 3\n",
       "2. 4\n",
       "3. 5\n",
       "4. 4\n",
       "5. 1\n",
       "6. 4\n",
       "7. 5\n",
       "8. 6\n",
       "9. 6\n",
       "10. 2\n",
       "11. 2\n",
       "12. 5\n",
       "13. 6\n",
       "14. 4\n",
       "15. 2\n",
       "16. 6\n",
       "17. 4\n",
       "18. 6\n",
       "19. 5\n",
       "20. 4\n",
       "21. 5\n",
       "22. 4\n",
       "23. 2\n",
       "24. 5\n",
       "25. 2\n",
       "26. 4\n",
       "27. 2\n",
       "28. 6\n",
       "29. 3\n",
       "30. 5\n",
       "31. 6\n",
       "32. 2\n",
       "33. 5\n",
       "34. 2\n",
       "35. 3\n",
       "36. 2\n",
       "37. 5\n",
       "38. 1\n",
       "39. 2\n",
       "40. 4\n",
       "41. 1\n",
       "42. 2\n",
       "43. 1\n",
       "44. 4\n",
       "45. 3\n",
       "46. 6\n",
       "47. 6\n",
       "48. 1\n",
       "49. 2\n",
       "50. 5\n",
       "51. 1\n",
       "52. 1\n",
       "53. 1\n",
       "54. 1\n",
       "55. 1\n",
       "56. 4\n",
       "57. 2\n",
       "58. 4\n",
       "59. 2\n",
       "60. 6\n",
       "61. 1\n",
       "62. 6\n",
       "63. 1\n",
       "64. 5\n",
       "65. 3\n",
       "66. 4\n",
       "67. 5\n",
       "68. 5\n",
       "69. 5\n",
       "70. 4\n",
       "71. 4\n",
       "72. 3\n",
       "73. 3\n",
       "74. 3\n",
       "75. 3\n",
       "76. 3\n",
       "77. 1\n",
       "78. 4\n",
       "79. 3\n",
       "80. 6\n",
       "81. 1\n",
       "82. 4\n",
       "83. 1\n",
       "84. 4\n",
       "85. 5\n",
       "86. 2\n",
       "87. 5\n",
       "88. 5\n",
       "89. 3\n",
       "90. 1\n",
       "91. 1\n",
       "92. 5\n",
       "93. 4\n",
       "94. 2\n",
       "95. 6\n",
       "96. 2\n",
       "97. 3\n",
       "98. 3\n",
       "99. 5\n",
       "100. 5\n",
       "101. 2\n",
       "102. 2\n",
       "103. 2\n",
       "104. 6\n",
       "105. 6\n",
       "106. 1\n",
       "107. 6\n",
       "108. 5\n",
       "109. 5\n",
       "110. 2\n",
       "111. 3\n",
       "112. 6\n",
       "113. 6\n",
       "114. 2\n",
       "115. 5\n",
       "116. 3\n",
       "117. 1\n",
       "118. 6\n",
       "119. 3\n",
       "120. 1\n",
       "\n",
       "\n"
      ],
      "text/plain": [
       "  [1] 3 4 5 4 1 4 5 6 6 2 2 5 6 4 2 6 4 6 5 4 5 4 2 5 2 4 2 6 3 5 6 2 5 2 3 2 5\n",
       " [38] 1 2 4 1 2 1 4 3 6 6 1 2 5 1 1 1 1 1 4 2 4 2 6 1 6 1 5 3 4 5 5 5 4 4 3 3 3\n",
       " [75] 3 3 1 4 3 6 1 4 1 4 5 2 5 5 3 1 1 5 4 2 6 2 3 3 5 5 2 2 2 6 6 1 6 5 5 2 3\n",
       "[112] 6 6 2 5 3 1 6 3 1"
      ]
     },
     "metadata": {},
     "output_type": "display_data"
    }
   ],
   "source": [
    "sample(1:6, 120, replace=TRUE)"
   ]
  },
  {
   "cell_type": "markdown",
   "id": "a99b1576",
   "metadata": {},
   "source": [
    "However, for this example, we will generate our own counts, using `rep`.\n",
    "\n",
    "This repeats the numbers:\n",
    " * 1 - 20 times\n",
    " * 2 - 20 times\n",
    " * 3 - 19 times\n",
    " * etc.\n",
    " \n",
    "Simulating, the number of times that number was rolled in 120 dice rolls. "
   ]
  },
  {
   "cell_type": "code",
   "execution_count": 17,
   "id": "175220aa",
   "metadata": {
    "vscode": {
     "languageId": "r"
    }
   },
   "outputs": [
    {
     "data": {
      "text/html": [
       "<style>\n",
       ".list-inline {list-style: none; margin:0; padding: 0}\n",
       ".list-inline>li {display: inline-block}\n",
       ".list-inline>li:not(:last-child)::after {content: \"\\00b7\"; padding: 0 .5ex}\n",
       "</style>\n",
       "<ol class=list-inline><li>1</li><li>1</li><li>1</li><li>1</li><li>1</li><li>1</li><li>1</li><li>1</li><li>1</li><li>1</li><li>1</li><li>1</li><li>1</li><li>1</li><li>1</li><li>1</li><li>1</li><li>1</li><li>1</li><li>1</li><li>2</li><li>2</li><li>2</li><li>2</li><li>2</li><li>2</li><li>2</li><li>2</li><li>2</li><li>2</li><li>2</li><li>2</li><li>2</li><li>2</li><li>2</li><li>2</li><li>2</li><li>2</li><li>2</li><li>2</li><li>3</li><li>3</li><li>3</li><li>3</li><li>3</li><li>3</li><li>3</li><li>3</li><li>3</li><li>3</li><li>3</li><li>3</li><li>3</li><li>3</li><li>3</li><li>3</li><li>3</li><li>3</li><li>3</li><li>4</li><li>4</li><li>4</li><li>4</li><li>4</li><li>4</li><li>4</li><li>4</li><li>4</li><li>4</li><li>4</li><li>4</li><li>4</li><li>4</li><li>4</li><li>5</li><li>5</li><li>5</li><li>5</li><li>5</li><li>5</li><li>5</li><li>5</li><li>5</li><li>5</li><li>5</li><li>5</li><li>5</li><li>6</li><li>6</li><li>6</li><li>6</li><li>6</li><li>6</li><li>6</li><li>6</li><li>6</li><li>6</li><li>6</li><li>6</li></ol>\n"
      ],
      "text/latex": [
       "\\begin{enumerate*}\n",
       "\\item 1\n",
       "\\item 1\n",
       "\\item 1\n",
       "\\item 1\n",
       "\\item 1\n",
       "\\item 1\n",
       "\\item 1\n",
       "\\item 1\n",
       "\\item 1\n",
       "\\item 1\n",
       "\\item 1\n",
       "\\item 1\n",
       "\\item 1\n",
       "\\item 1\n",
       "\\item 1\n",
       "\\item 1\n",
       "\\item 1\n",
       "\\item 1\n",
       "\\item 1\n",
       "\\item 1\n",
       "\\item 2\n",
       "\\item 2\n",
       "\\item 2\n",
       "\\item 2\n",
       "\\item 2\n",
       "\\item 2\n",
       "\\item 2\n",
       "\\item 2\n",
       "\\item 2\n",
       "\\item 2\n",
       "\\item 2\n",
       "\\item 2\n",
       "\\item 2\n",
       "\\item 2\n",
       "\\item 2\n",
       "\\item 2\n",
       "\\item 2\n",
       "\\item 2\n",
       "\\item 2\n",
       "\\item 2\n",
       "\\item 3\n",
       "\\item 3\n",
       "\\item 3\n",
       "\\item 3\n",
       "\\item 3\n",
       "\\item 3\n",
       "\\item 3\n",
       "\\item 3\n",
       "\\item 3\n",
       "\\item 3\n",
       "\\item 3\n",
       "\\item 3\n",
       "\\item 3\n",
       "\\item 3\n",
       "\\item 3\n",
       "\\item 3\n",
       "\\item 3\n",
       "\\item 3\n",
       "\\item 3\n",
       "\\item 4\n",
       "\\item 4\n",
       "\\item 4\n",
       "\\item 4\n",
       "\\item 4\n",
       "\\item 4\n",
       "\\item 4\n",
       "\\item 4\n",
       "\\item 4\n",
       "\\item 4\n",
       "\\item 4\n",
       "\\item 4\n",
       "\\item 4\n",
       "\\item 4\n",
       "\\item 4\n",
       "\\item 5\n",
       "\\item 5\n",
       "\\item 5\n",
       "\\item 5\n",
       "\\item 5\n",
       "\\item 5\n",
       "\\item 5\n",
       "\\item 5\n",
       "\\item 5\n",
       "\\item 5\n",
       "\\item 5\n",
       "\\item 5\n",
       "\\item 5\n",
       "\\item 6\n",
       "\\item 6\n",
       "\\item 6\n",
       "\\item 6\n",
       "\\item 6\n",
       "\\item 6\n",
       "\\item 6\n",
       "\\item 6\n",
       "\\item 6\n",
       "\\item 6\n",
       "\\item 6\n",
       "\\item 6\n",
       "\\end{enumerate*}\n"
      ],
      "text/markdown": [
       "1. 1\n",
       "2. 1\n",
       "3. 1\n",
       "4. 1\n",
       "5. 1\n",
       "6. 1\n",
       "7. 1\n",
       "8. 1\n",
       "9. 1\n",
       "10. 1\n",
       "11. 1\n",
       "12. 1\n",
       "13. 1\n",
       "14. 1\n",
       "15. 1\n",
       "16. 1\n",
       "17. 1\n",
       "18. 1\n",
       "19. 1\n",
       "20. 1\n",
       "21. 2\n",
       "22. 2\n",
       "23. 2\n",
       "24. 2\n",
       "25. 2\n",
       "26. 2\n",
       "27. 2\n",
       "28. 2\n",
       "29. 2\n",
       "30. 2\n",
       "31. 2\n",
       "32. 2\n",
       "33. 2\n",
       "34. 2\n",
       "35. 2\n",
       "36. 2\n",
       "37. 2\n",
       "38. 2\n",
       "39. 2\n",
       "40. 2\n",
       "41. 3\n",
       "42. 3\n",
       "43. 3\n",
       "44. 3\n",
       "45. 3\n",
       "46. 3\n",
       "47. 3\n",
       "48. 3\n",
       "49. 3\n",
       "50. 3\n",
       "51. 3\n",
       "52. 3\n",
       "53. 3\n",
       "54. 3\n",
       "55. 3\n",
       "56. 3\n",
       "57. 3\n",
       "58. 3\n",
       "59. 3\n",
       "60. 4\n",
       "61. 4\n",
       "62. 4\n",
       "63. 4\n",
       "64. 4\n",
       "65. 4\n",
       "66. 4\n",
       "67. 4\n",
       "68. 4\n",
       "69. 4\n",
       "70. 4\n",
       "71. 4\n",
       "72. 4\n",
       "73. 4\n",
       "74. 4\n",
       "75. 5\n",
       "76. 5\n",
       "77. 5\n",
       "78. 5\n",
       "79. 5\n",
       "80. 5\n",
       "81. 5\n",
       "82. 5\n",
       "83. 5\n",
       "84. 5\n",
       "85. 5\n",
       "86. 5\n",
       "87. 5\n",
       "88. 6\n",
       "89. 6\n",
       "90. 6\n",
       "91. 6\n",
       "92. 6\n",
       "93. 6\n",
       "94. 6\n",
       "95. 6\n",
       "96. 6\n",
       "97. 6\n",
       "98. 6\n",
       "99. 6\n",
       "\n",
       "\n"
      ],
      "text/plain": [
       " [1] 1 1 1 1 1 1 1 1 1 1 1 1 1 1 1 1 1 1 1 1 2 2 2 2 2 2 2 2 2 2 2 2 2 2 2 2 2 2\n",
       "[39] 2 2 3 3 3 3 3 3 3 3 3 3 3 3 3 3 3 3 3 3 3 4 4 4 4 4 4 4 4 4 4 4 4 4 4 4 5 5\n",
       "[77] 5 5 5 5 5 5 5 5 5 5 5 6 6 6 6 6 6 6 6 6 6 6 6"
      ]
     },
     "metadata": {},
     "output_type": "display_data"
    }
   ],
   "source": [
    "(diceroll <- rep(1:6, c(20, 20, 19, 15, 13, 12)))"
   ]
  },
  {
   "cell_type": "markdown",
   "id": "aaa687ea",
   "metadata": {},
   "source": [
    "Now, we want to know, how many times each number was rolled. We don't want to manually count, so `R` has a function called `table`, which counts the number of each occurence and tallies its frequency. "
   ]
  },
  {
   "cell_type": "code",
   "execution_count": 25,
   "id": "832480c7",
   "metadata": {
    "vscode": {
     "languageId": "r"
    }
   },
   "outputs": [
    {
     "data": {
      "text/plain": [
       "diceroll\n",
       " 1  2  3  4  5  6 \n",
       "20 20 19 15 13 12 "
      ]
     },
     "metadata": {},
     "output_type": "display_data"
    }
   ],
   "source": [
    "observed = table(diceroll)  # counts of each dice roll\n",
    "observed"
   ]
  },
  {
   "cell_type": "markdown",
   "id": "a4dcb22c",
   "metadata": {},
   "source": [
    "These are our *observed* dice rolls. If we expected it to be equal for each value, then in 120 dice rolls, we would expect each number to appear 120/6 = 20 times. Looking at our observed counts, can we say that each value appeared approximately this many times? \n",
    "\n",
    "We can use a chi-squared test to determine this. Simply, it is looking at the difference between our observed counts and our expected counts. \n",
    "\n",
    "`TODO` Ryan, will explain the math. "
   ]
  },
  {
   "cell_type": "code",
   "execution_count": 27,
   "id": "f11c4346",
   "metadata": {
    "vscode": {
     "languageId": "r"
    }
   },
   "outputs": [
    {
     "data": {
      "text/html": [
       "<style>\n",
       ".list-inline {list-style: none; margin:0; padding: 0}\n",
       ".list-inline>li {display: inline-block}\n",
       ".list-inline>li:not(:last-child)::after {content: \"\\00b7\"; padding: 0 .5ex}\n",
       "</style>\n",
       "<ol class=list-inline><li>20</li><li>20</li><li>20</li><li>20</li><li>20</li><li>20</li></ol>\n"
      ],
      "text/latex": [
       "\\begin{enumerate*}\n",
       "\\item 20\n",
       "\\item 20\n",
       "\\item 20\n",
       "\\item 20\n",
       "\\item 20\n",
       "\\item 20\n",
       "\\end{enumerate*}\n"
      ],
      "text/markdown": [
       "1. 20\n",
       "2. 20\n",
       "3. 20\n",
       "4. 20\n",
       "5. 20\n",
       "6. 20\n",
       "\n",
       "\n"
      ],
      "text/plain": [
       "[1] 20 20 20 20 20 20"
      ]
     },
     "metadata": {},
     "output_type": "display_data"
    }
   ],
   "source": [
    "# dice = 1:6\n",
    "# expected = rbind(dice, rep(20, 6))\n",
    "expected = rep(20, 6) \n",
    "expected  # we expect each number to appear 20 times"
   ]
  },
  {
   "cell_type": "markdown",
   "id": "c22c9ea4",
   "metadata": {},
   "source": [
    "The steps to calculating the chi-squared:\n",
    "\n",
    "1. Observed - Expected\n",
    "2. We only want the distance, i.e. how far away the observed counts are from the expected counts, therefore we square it, to account for the negatives.\n",
    "3. Divide it by the expected counts, basically to scale the value.\n",
    "4. We sum this all together so that we get a single statistic value.\n",
    "\n",
    "$$\\chi^2 = \\sum \\frac{(o-e)^2}{e}$$"
   ]
  },
  {
   "cell_type": "code",
   "execution_count": 29,
   "id": "d9c2bf86",
   "metadata": {
    "vscode": {
     "languageId": "r"
    }
   },
   "outputs": [
    {
     "data": {
      "text/plain": [
       "diceroll\n",
       " 1  2  3  4  5  6 \n",
       " 0  0 -1 -5 -7 -8 "
      ]
     },
     "metadata": {},
     "output_type": "display_data"
    }
   ],
   "source": [
    "# 1. \n",
    "(diff = observed - expected)"
   ]
  },
  {
   "cell_type": "code",
   "execution_count": 30,
   "id": "20f37270",
   "metadata": {
    "vscode": {
     "languageId": "r"
    }
   },
   "outputs": [
    {
     "data": {
      "text/plain": [
       "diceroll\n",
       " 1  2  3  4  5  6 \n",
       " 0  0  1 25 49 64 "
      ]
     },
     "metadata": {},
     "output_type": "display_data"
    }
   ],
   "source": [
    "#2. square it\n",
    "(diff_sq = diff^2)"
   ]
  },
  {
   "cell_type": "code",
   "execution_count": 31,
   "id": "e7586136",
   "metadata": {
    "vscode": {
     "languageId": "r"
    }
   },
   "outputs": [
    {
     "data": {
      "text/plain": [
       "diceroll\n",
       "   1    2    3    4    5    6 \n",
       "0.00 0.00 0.05 1.25 2.45 3.20 "
      ]
     },
     "metadata": {},
     "output_type": "display_data"
    }
   ],
   "source": [
    "#3. divide by expected counts\n",
    "(diff_sq_e = diff_sq/expected)"
   ]
  },
  {
   "cell_type": "code",
   "execution_count": 33,
   "id": "f1daf8fe",
   "metadata": {
    "vscode": {
     "languageId": "r"
    }
   },
   "outputs": [
    {
     "data": {
      "text/html": [
       "6.95"
      ],
      "text/latex": [
       "6.95"
      ],
      "text/markdown": [
       "6.95"
      ],
      "text/plain": [
       "[1] 6.95"
      ]
     },
     "metadata": {},
     "output_type": "display_data"
    }
   ],
   "source": [
    "#4. Sum it all together, to get chi-statistic\n",
    "(chi_stat = sum(diff_sq_e))"
   ]
  },
  {
   "cell_type": "markdown",
   "id": "c049d207",
   "metadata": {},
   "source": [
    "We have a $\\chi^2$ statistic! But what does that mean? \n",
    "\n",
    "Notice that if we have exactly 20 counts for each number in our observed, that would mean that we would a difference from the expected of 0, and following that through, the chi-squared would be 0. \n",
    "\n",
    "Dealing with randomness though, this will be very unlikely. So, we want to know whether our value is close enough to 0, to suggest that this is still equal to our expected, or if it is far away, to suggest that we might have a biased die. \n",
    "\n",
    "This brings in hypothesis testing. \n",
    "\n",
    "We want to compare our value to what it would be if it equalled our expected. \n",
    "\n",
    "We formalise this as such:\n",
    "\n",
    "$H_0$: Null Hypothesis - There is no difference between our observed counts and our expected counts\n",
    "\n",
    "$H_1$: Alternative Hypothesis - There is a difference between our observed and expected counts\n",
    "\n",
    "To observe this, we can do a simulation (by permutation). We look at the probability of observing our `chi_stat`, when we assume that the null hypothesis is true (i.e. the die is fair and we should be seeing our expected counts). "
   ]
  },
  {
   "cell_type": "code",
   "execution_count": 34,
   "id": "3afcbb85",
   "metadata": {
    "vscode": {
     "languageId": "r"
    }
   },
   "outputs": [
    {
     "data": {
      "text/html": [
       "<style>\n",
       ".list-inline {list-style: none; margin:0; padding: 0}\n",
       ".list-inline>li {display: inline-block}\n",
       ".list-inline>li:not(:last-child)::after {content: \"\\00b7\"; padding: 0 .5ex}\n",
       "</style>\n",
       "<ol class=list-inline><li>5</li><li>3</li><li>3</li><li>3</li><li>1</li><li>6</li><li>5</li><li>2</li><li>3</li><li>2</li><li>4</li><li>5</li><li>2</li><li>3</li><li>3</li><li>4</li><li>1</li><li>2</li><li>5</li><li>6</li><li>6</li><li>5</li><li>1</li><li>6</li><li>2</li><li>6</li><li>5</li><li>2</li><li>5</li><li>2</li><li>1</li><li>5</li><li>2</li><li>3</li><li>5</li><li>4</li><li>6</li><li>4</li><li>4</li><li>5</li><li>5</li><li>6</li><li>5</li><li>5</li><li>5</li><li>5</li><li>1</li><li>1</li><li>1</li><li>6</li><li>6</li><li>3</li><li>6</li><li>4</li><li>3</li><li>6</li><li>2</li><li>6</li><li>3</li><li>5</li><li>3</li><li>4</li><li>5</li><li>6</li><li>6</li><li>6</li><li>5</li><li>3</li><li>5</li><li>3</li><li>2</li><li>6</li><li>6</li><li>5</li><li>5</li><li>6</li><li>1</li><li>6</li><li>4</li><li>2</li><li>2</li><li>3</li><li>3</li><li>1</li><li>2</li><li>1</li><li>5</li><li>3</li><li>5</li><li>3</li><li>5</li><li>4</li><li>4</li><li>5</li><li>1</li><li>3</li><li>2</li><li>5</li><li>1</li><li>6</li><li>1</li><li>2</li><li>6</li><li>4</li><li>6</li><li>1</li><li>3</li><li>5</li><li>3</li><li>3</li><li>2</li><li>1</li><li>3</li><li>5</li><li>2</li><li>3</li><li>3</li><li>2</li><li>3</li><li>2</li></ol>\n"
      ],
      "text/latex": [
       "\\begin{enumerate*}\n",
       "\\item 5\n",
       "\\item 3\n",
       "\\item 3\n",
       "\\item 3\n",
       "\\item 1\n",
       "\\item 6\n",
       "\\item 5\n",
       "\\item 2\n",
       "\\item 3\n",
       "\\item 2\n",
       "\\item 4\n",
       "\\item 5\n",
       "\\item 2\n",
       "\\item 3\n",
       "\\item 3\n",
       "\\item 4\n",
       "\\item 1\n",
       "\\item 2\n",
       "\\item 5\n",
       "\\item 6\n",
       "\\item 6\n",
       "\\item 5\n",
       "\\item 1\n",
       "\\item 6\n",
       "\\item 2\n",
       "\\item 6\n",
       "\\item 5\n",
       "\\item 2\n",
       "\\item 5\n",
       "\\item 2\n",
       "\\item 1\n",
       "\\item 5\n",
       "\\item 2\n",
       "\\item 3\n",
       "\\item 5\n",
       "\\item 4\n",
       "\\item 6\n",
       "\\item 4\n",
       "\\item 4\n",
       "\\item 5\n",
       "\\item 5\n",
       "\\item 6\n",
       "\\item 5\n",
       "\\item 5\n",
       "\\item 5\n",
       "\\item 5\n",
       "\\item 1\n",
       "\\item 1\n",
       "\\item 1\n",
       "\\item 6\n",
       "\\item 6\n",
       "\\item 3\n",
       "\\item 6\n",
       "\\item 4\n",
       "\\item 3\n",
       "\\item 6\n",
       "\\item 2\n",
       "\\item 6\n",
       "\\item 3\n",
       "\\item 5\n",
       "\\item 3\n",
       "\\item 4\n",
       "\\item 5\n",
       "\\item 6\n",
       "\\item 6\n",
       "\\item 6\n",
       "\\item 5\n",
       "\\item 3\n",
       "\\item 5\n",
       "\\item 3\n",
       "\\item 2\n",
       "\\item 6\n",
       "\\item 6\n",
       "\\item 5\n",
       "\\item 5\n",
       "\\item 6\n",
       "\\item 1\n",
       "\\item 6\n",
       "\\item 4\n",
       "\\item 2\n",
       "\\item 2\n",
       "\\item 3\n",
       "\\item 3\n",
       "\\item 1\n",
       "\\item 2\n",
       "\\item 1\n",
       "\\item 5\n",
       "\\item 3\n",
       "\\item 5\n",
       "\\item 3\n",
       "\\item 5\n",
       "\\item 4\n",
       "\\item 4\n",
       "\\item 5\n",
       "\\item 1\n",
       "\\item 3\n",
       "\\item 2\n",
       "\\item 5\n",
       "\\item 1\n",
       "\\item 6\n",
       "\\item 1\n",
       "\\item 2\n",
       "\\item 6\n",
       "\\item 4\n",
       "\\item 6\n",
       "\\item 1\n",
       "\\item 3\n",
       "\\item 5\n",
       "\\item 3\n",
       "\\item 3\n",
       "\\item 2\n",
       "\\item 1\n",
       "\\item 3\n",
       "\\item 5\n",
       "\\item 2\n",
       "\\item 3\n",
       "\\item 3\n",
       "\\item 2\n",
       "\\item 3\n",
       "\\item 2\n",
       "\\end{enumerate*}\n"
      ],
      "text/markdown": [
       "1. 5\n",
       "2. 3\n",
       "3. 3\n",
       "4. 3\n",
       "5. 1\n",
       "6. 6\n",
       "7. 5\n",
       "8. 2\n",
       "9. 3\n",
       "10. 2\n",
       "11. 4\n",
       "12. 5\n",
       "13. 2\n",
       "14. 3\n",
       "15. 3\n",
       "16. 4\n",
       "17. 1\n",
       "18. 2\n",
       "19. 5\n",
       "20. 6\n",
       "21. 6\n",
       "22. 5\n",
       "23. 1\n",
       "24. 6\n",
       "25. 2\n",
       "26. 6\n",
       "27. 5\n",
       "28. 2\n",
       "29. 5\n",
       "30. 2\n",
       "31. 1\n",
       "32. 5\n",
       "33. 2\n",
       "34. 3\n",
       "35. 5\n",
       "36. 4\n",
       "37. 6\n",
       "38. 4\n",
       "39. 4\n",
       "40. 5\n",
       "41. 5\n",
       "42. 6\n",
       "43. 5\n",
       "44. 5\n",
       "45. 5\n",
       "46. 5\n",
       "47. 1\n",
       "48. 1\n",
       "49. 1\n",
       "50. 6\n",
       "51. 6\n",
       "52. 3\n",
       "53. 6\n",
       "54. 4\n",
       "55. 3\n",
       "56. 6\n",
       "57. 2\n",
       "58. 6\n",
       "59. 3\n",
       "60. 5\n",
       "61. 3\n",
       "62. 4\n",
       "63. 5\n",
       "64. 6\n",
       "65. 6\n",
       "66. 6\n",
       "67. 5\n",
       "68. 3\n",
       "69. 5\n",
       "70. 3\n",
       "71. 2\n",
       "72. 6\n",
       "73. 6\n",
       "74. 5\n",
       "75. 5\n",
       "76. 6\n",
       "77. 1\n",
       "78. 6\n",
       "79. 4\n",
       "80. 2\n",
       "81. 2\n",
       "82. 3\n",
       "83. 3\n",
       "84. 1\n",
       "85. 2\n",
       "86. 1\n",
       "87. 5\n",
       "88. 3\n",
       "89. 5\n",
       "90. 3\n",
       "91. 5\n",
       "92. 4\n",
       "93. 4\n",
       "94. 5\n",
       "95. 1\n",
       "96. 3\n",
       "97. 2\n",
       "98. 5\n",
       "99. 1\n",
       "100. 6\n",
       "101. 1\n",
       "102. 2\n",
       "103. 6\n",
       "104. 4\n",
       "105. 6\n",
       "106. 1\n",
       "107. 3\n",
       "108. 5\n",
       "109. 3\n",
       "110. 3\n",
       "111. 2\n",
       "112. 1\n",
       "113. 3\n",
       "114. 5\n",
       "115. 2\n",
       "116. 3\n",
       "117. 3\n",
       "118. 2\n",
       "119. 3\n",
       "120. 2\n",
       "\n",
       "\n"
      ],
      "text/plain": [
       "  [1] 5 3 3 3 1 6 5 2 3 2 4 5 2 3 3 4 1 2 5 6 6 5 1 6 2 6 5 2 5 2 1 5 2 3 5 4 6\n",
       " [38] 4 4 5 5 6 5 5 5 5 1 1 1 6 6 3 6 4 3 6 2 6 3 5 3 4 5 6 6 6 5 3 5 3 2 6 6 5\n",
       " [75] 5 6 1 6 4 2 2 3 3 1 2 1 5 3 5 3 5 4 4 5 1 3 2 5 1 6 1 2 6 4 6 1 3 5 3 3 2\n",
       "[112] 1 3 5 2 3 3 2 3 2"
      ]
     },
     "metadata": {},
     "output_type": "display_data"
    }
   ],
   "source": [
    "# Simulate the chi-squared values we would get if the die was fair:\n",
    "# we can use the `sample` from the beginning\n",
    "sample(1:6, 120, replace=TRUE)\n",
    "# this is for a 'fair' die. \n",
    "# Calculate the chisq for this set of observations. Compare that with our observed.\n",
    "# But is that enough? We want many of these to compare ours against so that we are more confident with our conclusion. "
   ]
  },
  {
   "cell_type": "code",
   "execution_count": 38,
   "id": "b441cfdf",
   "metadata": {
    "collapsed": true,
    "vscode": {
     "languageId": "r"
    }
   },
   "outputs": [
    {
     "data": {
      "text/html": [
       "<table class=\"dataframe\">\n",
       "<caption>A matrix: 120 × 10 of type int</caption>\n",
       "<tbody>\n",
       "\t<tr><td>4</td><td>3</td><td>6</td><td>5</td><td>2</td><td>4</td><td>4</td><td>6</td><td>2</td><td>3</td></tr>\n",
       "\t<tr><td>6</td><td>4</td><td>5</td><td>2</td><td>6</td><td>4</td><td>4</td><td>4</td><td>4</td><td>2</td></tr>\n",
       "\t<tr><td>1</td><td>6</td><td>5</td><td>6</td><td>2</td><td>5</td><td>4</td><td>1</td><td>6</td><td>6</td></tr>\n",
       "\t<tr><td>4</td><td>5</td><td>3</td><td>2</td><td>3</td><td>5</td><td>6</td><td>5</td><td>1</td><td>3</td></tr>\n",
       "\t<tr><td>2</td><td>5</td><td>1</td><td>2</td><td>6</td><td>3</td><td>5</td><td>4</td><td>6</td><td>6</td></tr>\n",
       "\t<tr><td>4</td><td>3</td><td>1</td><td>2</td><td>4</td><td>2</td><td>1</td><td>5</td><td>3</td><td>1</td></tr>\n",
       "\t<tr><td>4</td><td>1</td><td>3</td><td>5</td><td>1</td><td>1</td><td>1</td><td>5</td><td>4</td><td>5</td></tr>\n",
       "\t<tr><td>2</td><td>1</td><td>1</td><td>5</td><td>5</td><td>3</td><td>6</td><td>6</td><td>6</td><td>1</td></tr>\n",
       "\t<tr><td>1</td><td>6</td><td>5</td><td>2</td><td>2</td><td>4</td><td>3</td><td>6</td><td>3</td><td>1</td></tr>\n",
       "\t<tr><td>6</td><td>6</td><td>1</td><td>2</td><td>1</td><td>5</td><td>6</td><td>1</td><td>1</td><td>1</td></tr>\n",
       "\t<tr><td>6</td><td>5</td><td>2</td><td>6</td><td>3</td><td>2</td><td>3</td><td>5</td><td>6</td><td>5</td></tr>\n",
       "\t<tr><td>5</td><td>4</td><td>4</td><td>6</td><td>5</td><td>6</td><td>5</td><td>5</td><td>3</td><td>2</td></tr>\n",
       "\t<tr><td>1</td><td>2</td><td>4</td><td>2</td><td>6</td><td>3</td><td>6</td><td>5</td><td>2</td><td>3</td></tr>\n",
       "\t<tr><td>4</td><td>4</td><td>2</td><td>2</td><td>6</td><td>1</td><td>5</td><td>4</td><td>3</td><td>1</td></tr>\n",
       "\t<tr><td>3</td><td>3</td><td>6</td><td>5</td><td>6</td><td>5</td><td>6</td><td>5</td><td>6</td><td>5</td></tr>\n",
       "\t<tr><td>5</td><td>2</td><td>3</td><td>6</td><td>5</td><td>3</td><td>3</td><td>2</td><td>5</td><td>1</td></tr>\n",
       "\t<tr><td>3</td><td>5</td><td>3</td><td>6</td><td>6</td><td>3</td><td>2</td><td>3</td><td>1</td><td>3</td></tr>\n",
       "\t<tr><td>3</td><td>4</td><td>1</td><td>3</td><td>2</td><td>3</td><td>3</td><td>4</td><td>3</td><td>6</td></tr>\n",
       "\t<tr><td>3</td><td>1</td><td>3</td><td>2</td><td>1</td><td>2</td><td>4</td><td>4</td><td>2</td><td>2</td></tr>\n",
       "\t<tr><td>3</td><td>4</td><td>3</td><td>1</td><td>4</td><td>3</td><td>2</td><td>5</td><td>2</td><td>2</td></tr>\n",
       "\t<tr><td>2</td><td>1</td><td>6</td><td>4</td><td>6</td><td>5</td><td>4</td><td>1</td><td>4</td><td>6</td></tr>\n",
       "\t<tr><td>4</td><td>5</td><td>2</td><td>5</td><td>2</td><td>1</td><td>4</td><td>1</td><td>3</td><td>2</td></tr>\n",
       "\t<tr><td>5</td><td>3</td><td>5</td><td>1</td><td>4</td><td>4</td><td>4</td><td>2</td><td>5</td><td>5</td></tr>\n",
       "\t<tr><td>5</td><td>2</td><td>2</td><td>4</td><td>3</td><td>4</td><td>4</td><td>6</td><td>6</td><td>6</td></tr>\n",
       "\t<tr><td>4</td><td>5</td><td>4</td><td>5</td><td>6</td><td>6</td><td>3</td><td>6</td><td>1</td><td>3</td></tr>\n",
       "\t<tr><td>5</td><td>3</td><td>6</td><td>2</td><td>1</td><td>1</td><td>5</td><td>1</td><td>5</td><td>3</td></tr>\n",
       "\t<tr><td>1</td><td>4</td><td>5</td><td>4</td><td>6</td><td>2</td><td>6</td><td>2</td><td>1</td><td>6</td></tr>\n",
       "\t<tr><td>3</td><td>2</td><td>4</td><td>6</td><td>2</td><td>1</td><td>4</td><td>6</td><td>3</td><td>2</td></tr>\n",
       "\t<tr><td>1</td><td>2</td><td>3</td><td>5</td><td>3</td><td>5</td><td>4</td><td>5</td><td>5</td><td>5</td></tr>\n",
       "\t<tr><td>5</td><td>3</td><td>4</td><td>6</td><td>6</td><td>1</td><td>6</td><td>4</td><td>3</td><td>1</td></tr>\n",
       "\t<tr><td>⋮</td><td>⋮</td><td>⋮</td><td>⋮</td><td>⋮</td><td>⋮</td><td>⋮</td><td>⋮</td><td>⋮</td><td>⋮</td></tr>\n",
       "\t<tr><td>4</td><td>6</td><td>2</td><td>1</td><td>6</td><td>1</td><td>1</td><td>3</td><td>6</td><td>1</td></tr>\n",
       "\t<tr><td>4</td><td>5</td><td>2</td><td>1</td><td>4</td><td>2</td><td>2</td><td>2</td><td>3</td><td>2</td></tr>\n",
       "\t<tr><td>4</td><td>6</td><td>4</td><td>5</td><td>3</td><td>6</td><td>5</td><td>1</td><td>1</td><td>1</td></tr>\n",
       "\t<tr><td>4</td><td>4</td><td>1</td><td>4</td><td>5</td><td>1</td><td>2</td><td>1</td><td>4</td><td>4</td></tr>\n",
       "\t<tr><td>5</td><td>4</td><td>4</td><td>5</td><td>1</td><td>6</td><td>3</td><td>4</td><td>6</td><td>6</td></tr>\n",
       "\t<tr><td>4</td><td>1</td><td>3</td><td>6</td><td>6</td><td>6</td><td>1</td><td>2</td><td>4</td><td>6</td></tr>\n",
       "\t<tr><td>2</td><td>2</td><td>3</td><td>4</td><td>4</td><td>2</td><td>6</td><td>2</td><td>3</td><td>6</td></tr>\n",
       "\t<tr><td>6</td><td>4</td><td>6</td><td>5</td><td>4</td><td>3</td><td>4</td><td>4</td><td>2</td><td>4</td></tr>\n",
       "\t<tr><td>2</td><td>4</td><td>3</td><td>4</td><td>2</td><td>4</td><td>5</td><td>1</td><td>2</td><td>6</td></tr>\n",
       "\t<tr><td>2</td><td>6</td><td>4</td><td>1</td><td>5</td><td>2</td><td>2</td><td>2</td><td>3</td><td>5</td></tr>\n",
       "\t<tr><td>3</td><td>6</td><td>6</td><td>2</td><td>6</td><td>6</td><td>3</td><td>1</td><td>2</td><td>2</td></tr>\n",
       "\t<tr><td>6</td><td>2</td><td>6</td><td>3</td><td>2</td><td>2</td><td>1</td><td>3</td><td>6</td><td>4</td></tr>\n",
       "\t<tr><td>1</td><td>1</td><td>1</td><td>6</td><td>1</td><td>5</td><td>3</td><td>5</td><td>5</td><td>3</td></tr>\n",
       "\t<tr><td>4</td><td>6</td><td>4</td><td>3</td><td>6</td><td>6</td><td>2</td><td>2</td><td>4</td><td>4</td></tr>\n",
       "\t<tr><td>6</td><td>3</td><td>4</td><td>5</td><td>1</td><td>6</td><td>4</td><td>3</td><td>5</td><td>4</td></tr>\n",
       "\t<tr><td>5</td><td>5</td><td>1</td><td>4</td><td>4</td><td>1</td><td>1</td><td>4</td><td>5</td><td>6</td></tr>\n",
       "\t<tr><td>1</td><td>2</td><td>5</td><td>2</td><td>1</td><td>3</td><td>4</td><td>1</td><td>5</td><td>4</td></tr>\n",
       "\t<tr><td>6</td><td>1</td><td>4</td><td>2</td><td>1</td><td>3</td><td>3</td><td>4</td><td>4</td><td>1</td></tr>\n",
       "\t<tr><td>5</td><td>1</td><td>2</td><td>4</td><td>3</td><td>5</td><td>4</td><td>1</td><td>4</td><td>5</td></tr>\n",
       "\t<tr><td>6</td><td>6</td><td>5</td><td>3</td><td>5</td><td>2</td><td>6</td><td>6</td><td>4</td><td>1</td></tr>\n",
       "\t<tr><td>6</td><td>1</td><td>3</td><td>2</td><td>3</td><td>1</td><td>4</td><td>1</td><td>2</td><td>3</td></tr>\n",
       "\t<tr><td>4</td><td>6</td><td>2</td><td>6</td><td>2</td><td>2</td><td>6</td><td>3</td><td>1</td><td>5</td></tr>\n",
       "\t<tr><td>6</td><td>2</td><td>1</td><td>5</td><td>1</td><td>2</td><td>3</td><td>5</td><td>4</td><td>2</td></tr>\n",
       "\t<tr><td>4</td><td>2</td><td>3</td><td>1</td><td>2</td><td>1</td><td>1</td><td>4</td><td>3</td><td>5</td></tr>\n",
       "\t<tr><td>6</td><td>3</td><td>3</td><td>4</td><td>2</td><td>1</td><td>5</td><td>2</td><td>2</td><td>3</td></tr>\n",
       "\t<tr><td>3</td><td>1</td><td>2</td><td>4</td><td>2</td><td>2</td><td>4</td><td>6</td><td>1</td><td>6</td></tr>\n",
       "\t<tr><td>2</td><td>6</td><td>5</td><td>5</td><td>6</td><td>3</td><td>4</td><td>5</td><td>1</td><td>3</td></tr>\n",
       "\t<tr><td>1</td><td>4</td><td>3</td><td>1</td><td>1</td><td>5</td><td>5</td><td>6</td><td>5</td><td>6</td></tr>\n",
       "\t<tr><td>3</td><td>5</td><td>1</td><td>4</td><td>3</td><td>6</td><td>2</td><td>6</td><td>3</td><td>6</td></tr>\n",
       "\t<tr><td>5</td><td>1</td><td>2</td><td>5</td><td>1</td><td>4</td><td>2</td><td>4</td><td>5</td><td>5</td></tr>\n",
       "</tbody>\n",
       "</table>\n"
      ],
      "text/latex": [
       "A matrix: 120 × 10 of type int\n",
       "\\begin{tabular}{llllllllll}\n",
       "\t 4 & 3 & 6 & 5 & 2 & 4 & 4 & 6 & 2 & 3\\\\\n",
       "\t 6 & 4 & 5 & 2 & 6 & 4 & 4 & 4 & 4 & 2\\\\\n",
       "\t 1 & 6 & 5 & 6 & 2 & 5 & 4 & 1 & 6 & 6\\\\\n",
       "\t 4 & 5 & 3 & 2 & 3 & 5 & 6 & 5 & 1 & 3\\\\\n",
       "\t 2 & 5 & 1 & 2 & 6 & 3 & 5 & 4 & 6 & 6\\\\\n",
       "\t 4 & 3 & 1 & 2 & 4 & 2 & 1 & 5 & 3 & 1\\\\\n",
       "\t 4 & 1 & 3 & 5 & 1 & 1 & 1 & 5 & 4 & 5\\\\\n",
       "\t 2 & 1 & 1 & 5 & 5 & 3 & 6 & 6 & 6 & 1\\\\\n",
       "\t 1 & 6 & 5 & 2 & 2 & 4 & 3 & 6 & 3 & 1\\\\\n",
       "\t 6 & 6 & 1 & 2 & 1 & 5 & 6 & 1 & 1 & 1\\\\\n",
       "\t 6 & 5 & 2 & 6 & 3 & 2 & 3 & 5 & 6 & 5\\\\\n",
       "\t 5 & 4 & 4 & 6 & 5 & 6 & 5 & 5 & 3 & 2\\\\\n",
       "\t 1 & 2 & 4 & 2 & 6 & 3 & 6 & 5 & 2 & 3\\\\\n",
       "\t 4 & 4 & 2 & 2 & 6 & 1 & 5 & 4 & 3 & 1\\\\\n",
       "\t 3 & 3 & 6 & 5 & 6 & 5 & 6 & 5 & 6 & 5\\\\\n",
       "\t 5 & 2 & 3 & 6 & 5 & 3 & 3 & 2 & 5 & 1\\\\\n",
       "\t 3 & 5 & 3 & 6 & 6 & 3 & 2 & 3 & 1 & 3\\\\\n",
       "\t 3 & 4 & 1 & 3 & 2 & 3 & 3 & 4 & 3 & 6\\\\\n",
       "\t 3 & 1 & 3 & 2 & 1 & 2 & 4 & 4 & 2 & 2\\\\\n",
       "\t 3 & 4 & 3 & 1 & 4 & 3 & 2 & 5 & 2 & 2\\\\\n",
       "\t 2 & 1 & 6 & 4 & 6 & 5 & 4 & 1 & 4 & 6\\\\\n",
       "\t 4 & 5 & 2 & 5 & 2 & 1 & 4 & 1 & 3 & 2\\\\\n",
       "\t 5 & 3 & 5 & 1 & 4 & 4 & 4 & 2 & 5 & 5\\\\\n",
       "\t 5 & 2 & 2 & 4 & 3 & 4 & 4 & 6 & 6 & 6\\\\\n",
       "\t 4 & 5 & 4 & 5 & 6 & 6 & 3 & 6 & 1 & 3\\\\\n",
       "\t 5 & 3 & 6 & 2 & 1 & 1 & 5 & 1 & 5 & 3\\\\\n",
       "\t 1 & 4 & 5 & 4 & 6 & 2 & 6 & 2 & 1 & 6\\\\\n",
       "\t 3 & 2 & 4 & 6 & 2 & 1 & 4 & 6 & 3 & 2\\\\\n",
       "\t 1 & 2 & 3 & 5 & 3 & 5 & 4 & 5 & 5 & 5\\\\\n",
       "\t 5 & 3 & 4 & 6 & 6 & 1 & 6 & 4 & 3 & 1\\\\\n",
       "\t ⋮ & ⋮ & ⋮ & ⋮ & ⋮ & ⋮ & ⋮ & ⋮ & ⋮ & ⋮\\\\\n",
       "\t 4 & 6 & 2 & 1 & 6 & 1 & 1 & 3 & 6 & 1\\\\\n",
       "\t 4 & 5 & 2 & 1 & 4 & 2 & 2 & 2 & 3 & 2\\\\\n",
       "\t 4 & 6 & 4 & 5 & 3 & 6 & 5 & 1 & 1 & 1\\\\\n",
       "\t 4 & 4 & 1 & 4 & 5 & 1 & 2 & 1 & 4 & 4\\\\\n",
       "\t 5 & 4 & 4 & 5 & 1 & 6 & 3 & 4 & 6 & 6\\\\\n",
       "\t 4 & 1 & 3 & 6 & 6 & 6 & 1 & 2 & 4 & 6\\\\\n",
       "\t 2 & 2 & 3 & 4 & 4 & 2 & 6 & 2 & 3 & 6\\\\\n",
       "\t 6 & 4 & 6 & 5 & 4 & 3 & 4 & 4 & 2 & 4\\\\\n",
       "\t 2 & 4 & 3 & 4 & 2 & 4 & 5 & 1 & 2 & 6\\\\\n",
       "\t 2 & 6 & 4 & 1 & 5 & 2 & 2 & 2 & 3 & 5\\\\\n",
       "\t 3 & 6 & 6 & 2 & 6 & 6 & 3 & 1 & 2 & 2\\\\\n",
       "\t 6 & 2 & 6 & 3 & 2 & 2 & 1 & 3 & 6 & 4\\\\\n",
       "\t 1 & 1 & 1 & 6 & 1 & 5 & 3 & 5 & 5 & 3\\\\\n",
       "\t 4 & 6 & 4 & 3 & 6 & 6 & 2 & 2 & 4 & 4\\\\\n",
       "\t 6 & 3 & 4 & 5 & 1 & 6 & 4 & 3 & 5 & 4\\\\\n",
       "\t 5 & 5 & 1 & 4 & 4 & 1 & 1 & 4 & 5 & 6\\\\\n",
       "\t 1 & 2 & 5 & 2 & 1 & 3 & 4 & 1 & 5 & 4\\\\\n",
       "\t 6 & 1 & 4 & 2 & 1 & 3 & 3 & 4 & 4 & 1\\\\\n",
       "\t 5 & 1 & 2 & 4 & 3 & 5 & 4 & 1 & 4 & 5\\\\\n",
       "\t 6 & 6 & 5 & 3 & 5 & 2 & 6 & 6 & 4 & 1\\\\\n",
       "\t 6 & 1 & 3 & 2 & 3 & 1 & 4 & 1 & 2 & 3\\\\\n",
       "\t 4 & 6 & 2 & 6 & 2 & 2 & 6 & 3 & 1 & 5\\\\\n",
       "\t 6 & 2 & 1 & 5 & 1 & 2 & 3 & 5 & 4 & 2\\\\\n",
       "\t 4 & 2 & 3 & 1 & 2 & 1 & 1 & 4 & 3 & 5\\\\\n",
       "\t 6 & 3 & 3 & 4 & 2 & 1 & 5 & 2 & 2 & 3\\\\\n",
       "\t 3 & 1 & 2 & 4 & 2 & 2 & 4 & 6 & 1 & 6\\\\\n",
       "\t 2 & 6 & 5 & 5 & 6 & 3 & 4 & 5 & 1 & 3\\\\\n",
       "\t 1 & 4 & 3 & 1 & 1 & 5 & 5 & 6 & 5 & 6\\\\\n",
       "\t 3 & 5 & 1 & 4 & 3 & 6 & 2 & 6 & 3 & 6\\\\\n",
       "\t 5 & 1 & 2 & 5 & 1 & 4 & 2 & 4 & 5 & 5\\\\\n",
       "\\end{tabular}\n"
      ],
      "text/markdown": [
       "\n",
       "A matrix: 120 × 10 of type int\n",
       "\n",
       "| 4 | 3 | 6 | 5 | 2 | 4 | 4 | 6 | 2 | 3 |\n",
       "| 6 | 4 | 5 | 2 | 6 | 4 | 4 | 4 | 4 | 2 |\n",
       "| 1 | 6 | 5 | 6 | 2 | 5 | 4 | 1 | 6 | 6 |\n",
       "| 4 | 5 | 3 | 2 | 3 | 5 | 6 | 5 | 1 | 3 |\n",
       "| 2 | 5 | 1 | 2 | 6 | 3 | 5 | 4 | 6 | 6 |\n",
       "| 4 | 3 | 1 | 2 | 4 | 2 | 1 | 5 | 3 | 1 |\n",
       "| 4 | 1 | 3 | 5 | 1 | 1 | 1 | 5 | 4 | 5 |\n",
       "| 2 | 1 | 1 | 5 | 5 | 3 | 6 | 6 | 6 | 1 |\n",
       "| 1 | 6 | 5 | 2 | 2 | 4 | 3 | 6 | 3 | 1 |\n",
       "| 6 | 6 | 1 | 2 | 1 | 5 | 6 | 1 | 1 | 1 |\n",
       "| 6 | 5 | 2 | 6 | 3 | 2 | 3 | 5 | 6 | 5 |\n",
       "| 5 | 4 | 4 | 6 | 5 | 6 | 5 | 5 | 3 | 2 |\n",
       "| 1 | 2 | 4 | 2 | 6 | 3 | 6 | 5 | 2 | 3 |\n",
       "| 4 | 4 | 2 | 2 | 6 | 1 | 5 | 4 | 3 | 1 |\n",
       "| 3 | 3 | 6 | 5 | 6 | 5 | 6 | 5 | 6 | 5 |\n",
       "| 5 | 2 | 3 | 6 | 5 | 3 | 3 | 2 | 5 | 1 |\n",
       "| 3 | 5 | 3 | 6 | 6 | 3 | 2 | 3 | 1 | 3 |\n",
       "| 3 | 4 | 1 | 3 | 2 | 3 | 3 | 4 | 3 | 6 |\n",
       "| 3 | 1 | 3 | 2 | 1 | 2 | 4 | 4 | 2 | 2 |\n",
       "| 3 | 4 | 3 | 1 | 4 | 3 | 2 | 5 | 2 | 2 |\n",
       "| 2 | 1 | 6 | 4 | 6 | 5 | 4 | 1 | 4 | 6 |\n",
       "| 4 | 5 | 2 | 5 | 2 | 1 | 4 | 1 | 3 | 2 |\n",
       "| 5 | 3 | 5 | 1 | 4 | 4 | 4 | 2 | 5 | 5 |\n",
       "| 5 | 2 | 2 | 4 | 3 | 4 | 4 | 6 | 6 | 6 |\n",
       "| 4 | 5 | 4 | 5 | 6 | 6 | 3 | 6 | 1 | 3 |\n",
       "| 5 | 3 | 6 | 2 | 1 | 1 | 5 | 1 | 5 | 3 |\n",
       "| 1 | 4 | 5 | 4 | 6 | 2 | 6 | 2 | 1 | 6 |\n",
       "| 3 | 2 | 4 | 6 | 2 | 1 | 4 | 6 | 3 | 2 |\n",
       "| 1 | 2 | 3 | 5 | 3 | 5 | 4 | 5 | 5 | 5 |\n",
       "| 5 | 3 | 4 | 6 | 6 | 1 | 6 | 4 | 3 | 1 |\n",
       "| ⋮ | ⋮ | ⋮ | ⋮ | ⋮ | ⋮ | ⋮ | ⋮ | ⋮ | ⋮ |\n",
       "| 4 | 6 | 2 | 1 | 6 | 1 | 1 | 3 | 6 | 1 |\n",
       "| 4 | 5 | 2 | 1 | 4 | 2 | 2 | 2 | 3 | 2 |\n",
       "| 4 | 6 | 4 | 5 | 3 | 6 | 5 | 1 | 1 | 1 |\n",
       "| 4 | 4 | 1 | 4 | 5 | 1 | 2 | 1 | 4 | 4 |\n",
       "| 5 | 4 | 4 | 5 | 1 | 6 | 3 | 4 | 6 | 6 |\n",
       "| 4 | 1 | 3 | 6 | 6 | 6 | 1 | 2 | 4 | 6 |\n",
       "| 2 | 2 | 3 | 4 | 4 | 2 | 6 | 2 | 3 | 6 |\n",
       "| 6 | 4 | 6 | 5 | 4 | 3 | 4 | 4 | 2 | 4 |\n",
       "| 2 | 4 | 3 | 4 | 2 | 4 | 5 | 1 | 2 | 6 |\n",
       "| 2 | 6 | 4 | 1 | 5 | 2 | 2 | 2 | 3 | 5 |\n",
       "| 3 | 6 | 6 | 2 | 6 | 6 | 3 | 1 | 2 | 2 |\n",
       "| 6 | 2 | 6 | 3 | 2 | 2 | 1 | 3 | 6 | 4 |\n",
       "| 1 | 1 | 1 | 6 | 1 | 5 | 3 | 5 | 5 | 3 |\n",
       "| 4 | 6 | 4 | 3 | 6 | 6 | 2 | 2 | 4 | 4 |\n",
       "| 6 | 3 | 4 | 5 | 1 | 6 | 4 | 3 | 5 | 4 |\n",
       "| 5 | 5 | 1 | 4 | 4 | 1 | 1 | 4 | 5 | 6 |\n",
       "| 1 | 2 | 5 | 2 | 1 | 3 | 4 | 1 | 5 | 4 |\n",
       "| 6 | 1 | 4 | 2 | 1 | 3 | 3 | 4 | 4 | 1 |\n",
       "| 5 | 1 | 2 | 4 | 3 | 5 | 4 | 1 | 4 | 5 |\n",
       "| 6 | 6 | 5 | 3 | 5 | 2 | 6 | 6 | 4 | 1 |\n",
       "| 6 | 1 | 3 | 2 | 3 | 1 | 4 | 1 | 2 | 3 |\n",
       "| 4 | 6 | 2 | 6 | 2 | 2 | 6 | 3 | 1 | 5 |\n",
       "| 6 | 2 | 1 | 5 | 1 | 2 | 3 | 5 | 4 | 2 |\n",
       "| 4 | 2 | 3 | 1 | 2 | 1 | 1 | 4 | 3 | 5 |\n",
       "| 6 | 3 | 3 | 4 | 2 | 1 | 5 | 2 | 2 | 3 |\n",
       "| 3 | 1 | 2 | 4 | 2 | 2 | 4 | 6 | 1 | 6 |\n",
       "| 2 | 6 | 5 | 5 | 6 | 3 | 4 | 5 | 1 | 3 |\n",
       "| 1 | 4 | 3 | 1 | 1 | 5 | 5 | 6 | 5 | 6 |\n",
       "| 3 | 5 | 1 | 4 | 3 | 6 | 2 | 6 | 3 | 6 |\n",
       "| 5 | 1 | 2 | 5 | 1 | 4 | 2 | 4 | 5 | 5 |\n",
       "\n"
      ],
      "text/plain": [
       "      [,1] [,2] [,3] [,4] [,5] [,6] [,7] [,8] [,9] [,10]\n",
       " [1,] 4    3    6    5    2    4    4    6    2    3    \n",
       " [2,] 6    4    5    2    6    4    4    4    4    2    \n",
       " [3,] 1    6    5    6    2    5    4    1    6    6    \n",
       " [4,] 4    5    3    2    3    5    6    5    1    3    \n",
       " [5,] 2    5    1    2    6    3    5    4    6    6    \n",
       " [6,] 4    3    1    2    4    2    1    5    3    1    \n",
       " [7,] 4    1    3    5    1    1    1    5    4    5    \n",
       " [8,] 2    1    1    5    5    3    6    6    6    1    \n",
       " [9,] 1    6    5    2    2    4    3    6    3    1    \n",
       "[10,] 6    6    1    2    1    5    6    1    1    1    \n",
       "[11,] 6    5    2    6    3    2    3    5    6    5    \n",
       "[12,] 5    4    4    6    5    6    5    5    3    2    \n",
       "[13,] 1    2    4    2    6    3    6    5    2    3    \n",
       "[14,] 4    4    2    2    6    1    5    4    3    1    \n",
       "[15,] 3    3    6    5    6    5    6    5    6    5    \n",
       "[16,] 5    2    3    6    5    3    3    2    5    1    \n",
       "[17,] 3    5    3    6    6    3    2    3    1    3    \n",
       "[18,] 3    4    1    3    2    3    3    4    3    6    \n",
       "[19,] 3    1    3    2    1    2    4    4    2    2    \n",
       "[20,] 3    4    3    1    4    3    2    5    2    2    \n",
       "[21,] 2    1    6    4    6    5    4    1    4    6    \n",
       "[22,] 4    5    2    5    2    1    4    1    3    2    \n",
       "[23,] 5    3    5    1    4    4    4    2    5    5    \n",
       "[24,] 5    2    2    4    3    4    4    6    6    6    \n",
       "[25,] 4    5    4    5    6    6    3    6    1    3    \n",
       "[26,] 5    3    6    2    1    1    5    1    5    3    \n",
       "[27,] 1    4    5    4    6    2    6    2    1    6    \n",
       "[28,] 3    2    4    6    2    1    4    6    3    2    \n",
       "[29,] 1    2    3    5    3    5    4    5    5    5    \n",
       "[30,] 5    3    4    6    6    1    6    4    3    1    \n",
       "[31,] ⋮    ⋮    ⋮    ⋮    ⋮    ⋮    ⋮    ⋮    ⋮    ⋮    \n",
       "[32,] 4    6    2    1    6    1    1    3    6    1    \n",
       "[33,] 4    5    2    1    4    2    2    2    3    2    \n",
       "[34,] 4    6    4    5    3    6    5    1    1    1    \n",
       "[35,] 4    4    1    4    5    1    2    1    4    4    \n",
       "[36,] 5    4    4    5    1    6    3    4    6    6    \n",
       "[37,] 4    1    3    6    6    6    1    2    4    6    \n",
       "[38,] 2    2    3    4    4    2    6    2    3    6    \n",
       "[39,] 6    4    6    5    4    3    4    4    2    4    \n",
       "[40,] 2    4    3    4    2    4    5    1    2    6    \n",
       "[41,] 2    6    4    1    5    2    2    2    3    5    \n",
       "[42,] 3    6    6    2    6    6    3    1    2    2    \n",
       "[43,] 6    2    6    3    2    2    1    3    6    4    \n",
       "[44,] 1    1    1    6    1    5    3    5    5    3    \n",
       "[45,] 4    6    4    3    6    6    2    2    4    4    \n",
       "[46,] 6    3    4    5    1    6    4    3    5    4    \n",
       "[47,] 5    5    1    4    4    1    1    4    5    6    \n",
       "[48,] 1    2    5    2    1    3    4    1    5    4    \n",
       "[49,] 6    1    4    2    1    3    3    4    4    1    \n",
       "[50,] 5    1    2    4    3    5    4    1    4    5    \n",
       "[51,] 6    6    5    3    5    2    6    6    4    1    \n",
       "[52,] 6    1    3    2    3    1    4    1    2    3    \n",
       "[53,] 4    6    2    6    2    2    6    3    1    5    \n",
       "[54,] 6    2    1    5    1    2    3    5    4    2    \n",
       "[55,] 4    2    3    1    2    1    1    4    3    5    \n",
       "[56,] 6    3    3    4    2    1    5    2    2    3    \n",
       "[57,] 3    1    2    4    2    2    4    6    1    6    \n",
       "[58,] 2    6    5    5    6    3    4    5    1    3    \n",
       "[59,] 1    4    3    1    1    5    5    6    5    6    \n",
       "[60,] 3    5    1    4    3    6    2    6    3    6    \n",
       "[61,] 5    1    2    5    1    4    2    4    5    5    "
      ]
     },
     "metadata": {},
     "output_type": "display_data"
    }
   ],
   "source": [
    "# To do this many times, we can use the `replicate` function\n",
    "replicate(10, sample(1:6, 120, replace=TRUE))\n",
    "\n",
    "## each rown is the 120 dice rolls, each column is how many times we've repeated this. "
   ]
  },
  {
   "cell_type": "markdown",
   "id": "d8e794a9",
   "metadata": {},
   "source": [
    "`TODO` explain the expected?"
   ]
  },
  {
   "cell_type": "code",
   "execution_count": 45,
   "id": "c6b1c465",
   "metadata": {
    "vscode": {
     "languageId": "r"
    }
   },
   "outputs": [],
   "source": [
    "# inside the replicate function, is all the steps we did above to get the chisq stat\n",
    "\n",
    "chisq_sim <- replicate(1000, {\n",
    "    rolls = sample(1:6, 120, replace=TRUE) # get 120 dice rolls\n",
    "    o = table(rolls) # tabulate the counts for each of the values\n",
    "    e = rep(20, 6) # the expected counts (20 each)\n",
    "    chisq = sum((o-e)^2/e) # calculate the chisq statistic\n",
    "})"
   ]
  },
  {
   "cell_type": "code",
   "execution_count": 48,
   "id": "53134022",
   "metadata": {
    "vscode": {
     "languageId": "r"
    }
   },
   "outputs": [
    {
     "data": {
      "text/html": [
       "<style>\n",
       ".list-inline {list-style: none; margin:0; padding: 0}\n",
       ".list-inline>li {display: inline-block}\n",
       ".list-inline>li:not(:last-child)::after {content: \"\\00b7\"; padding: 0 .5ex}\n",
       "</style>\n",
       "<ol class=list-inline><li>6.4</li><li>6.8</li><li>6.8</li><li>5.9</li><li>2.9</li><li>3.4</li><li>4.7</li><li>14.5</li><li>0.8</li><li>4.1</li><li>4.2</li><li>2.6</li><li>17.3</li><li>11.2</li><li>1.4</li><li>1.6</li><li>14.3</li><li>0.5</li><li>10.5</li><li>3.9</li></ol>\n"
      ],
      "text/latex": [
       "\\begin{enumerate*}\n",
       "\\item 6.4\n",
       "\\item 6.8\n",
       "\\item 6.8\n",
       "\\item 5.9\n",
       "\\item 2.9\n",
       "\\item 3.4\n",
       "\\item 4.7\n",
       "\\item 14.5\n",
       "\\item 0.8\n",
       "\\item 4.1\n",
       "\\item 4.2\n",
       "\\item 2.6\n",
       "\\item 17.3\n",
       "\\item 11.2\n",
       "\\item 1.4\n",
       "\\item 1.6\n",
       "\\item 14.3\n",
       "\\item 0.5\n",
       "\\item 10.5\n",
       "\\item 3.9\n",
       "\\end{enumerate*}\n"
      ],
      "text/markdown": [
       "1. 6.4\n",
       "2. 6.8\n",
       "3. 6.8\n",
       "4. 5.9\n",
       "5. 2.9\n",
       "6. 3.4\n",
       "7. 4.7\n",
       "8. 14.5\n",
       "9. 0.8\n",
       "10. 4.1\n",
       "11. 4.2\n",
       "12. 2.6\n",
       "13. 17.3\n",
       "14. 11.2\n",
       "15. 1.4\n",
       "16. 1.6\n",
       "17. 14.3\n",
       "18. 0.5\n",
       "19. 10.5\n",
       "20. 3.9\n",
       "\n",
       "\n"
      ],
      "text/plain": [
       " [1]  6.4  6.8  6.8  5.9  2.9  3.4  4.7 14.5  0.8  4.1  4.2  2.6 17.3 11.2  1.4\n",
       "[16]  1.6 14.3  0.5 10.5  3.9"
      ]
     },
     "metadata": {},
     "output_type": "display_data"
    }
   ],
   "source": [
    "# look at those values\n",
    "head(chisq_sim, n=20)\n",
    "# these are all the chisq values for each of the simulations"
   ]
  },
  {
   "cell_type": "code",
   "execution_count": 51,
   "id": "7e8ba9fb",
   "metadata": {
    "vscode": {
     "languageId": "r"
    }
   },
   "outputs": [
    {
     "data": {
      "image/png": "[encoded data removed]",
      "text/plain": [
       "Plot with title “Histogram of chisq_sim”"
      ]
     },
     "metadata": {
      "image/png": {
       "height": 420,
       "width": 420
      }
     },
     "output_type": "display_data"
    }
   ],
   "source": [
    "# visualising it:\n",
    "hist(chisq_sim)\n",
    "\n",
    "# our original observed statistic\n",
    "abline(v=chi_stat, col=\"red\")"
   ]
  },
  {
   "cell_type": "markdown",
   "id": "e0ba75eb",
   "metadata": {},
   "source": [
    "These values are the chi-squared statistics for the simulation, where we *know* that the die is fair, and therefore any deviation from the expected value is just due to chance.\n",
    "\n",
    "How likely is it that our observed value, only happened by chance and not because it was an unfair die? \n",
    "\n",
    "We can look at how extreme our observed was from the simulated:"
   ]
  },
  {
   "cell_type": "code",
   "execution_count": 54,
   "id": "b18c390f",
   "metadata": {
    "vscode": {
     "languageId": "r"
    }
   },
   "outputs": [
    {
     "data": {
      "text/html": [
       "0.215"
      ],
      "text/latex": [
       "0.215"
      ],
      "text/markdown": [
       "0.215"
      ],
      "text/plain": [
       "[1] 0.215"
      ]
     },
     "metadata": {},
     "output_type": "display_data"
    }
   ],
   "source": [
    "# counting how many of the simulations were more extreme than our observed.\n",
    "mean(chisq_sim > chi_stat)"
   ]
  },
  {
   "cell_type": "markdown",
   "id": "3179f635",
   "metadata": {},
   "source": [
    "We just calculated a p-value. \n",
    "\n",
    "The famous p < 0.05? \n",
    "\n",
    "This is the usually accepted threshold, where we can say that if p < 0.05, then there is a small probability that the observed happened by chance, therefore we can reject the null hypothesis. \n",
    "\n",
    "In this case, the probability is still relatively high that it occured by chance (i.e. the difference from the expected probably happened by chance and we cannot suggest that it was the the die was unfair. \n",
    "\n",
    "We say -- we have no evidence to reject the null hypothesis. "
   ]
  },
  {
   "cell_type": "markdown",
   "id": "6136b673",
   "metadata": {},
   "source": [
    "---\n",
    "\n",
    "Another way we can do this is using a confidence interval. "
   ]
  },
  {
   "cell_type": "code",
   "execution_count": 55,
   "id": "43648e67",
   "metadata": {
    "vscode": {
     "languageId": "r"
    }
   },
   "outputs": [
    {
     "data": {
      "text/html": [
       "<style>\n",
       ".list-inline {list-style: none; margin:0; padding: 0}\n",
       ".list-inline>li {display: inline-block}\n",
       ".list-inline>li:not(:last-child)::after {content: \"\\00b7\"; padding: 0 .5ex}\n",
       "</style>\n",
       "<ol class=list-inline><li>1</li><li>1</li><li>1</li><li>1</li><li>1</li><li>1</li><li>1</li><li>1</li><li>1</li><li>1</li><li>1</li><li>1</li><li>1</li><li>1</li><li>1</li><li>1</li><li>1</li><li>1</li><li>1</li><li>1</li><li>2</li><li>2</li><li>2</li><li>2</li><li>2</li><li>2</li><li>2</li><li>2</li><li>2</li><li>2</li><li>2</li><li>2</li><li>2</li><li>2</li><li>2</li><li>2</li><li>2</li><li>2</li><li>2</li><li>2</li><li>3</li><li>3</li><li>3</li><li>3</li><li>3</li><li>3</li><li>3</li><li>3</li><li>3</li><li>3</li><li>3</li><li>3</li><li>3</li><li>3</li><li>3</li><li>3</li><li>3</li><li>3</li><li>3</li><li>4</li><li>4</li><li>4</li><li>4</li><li>4</li><li>4</li><li>4</li><li>4</li><li>4</li><li>4</li><li>4</li><li>4</li><li>4</li><li>4</li><li>4</li><li>5</li><li>5</li><li>5</li><li>5</li><li>5</li><li>5</li><li>5</li><li>5</li><li>5</li><li>5</li><li>5</li><li>5</li><li>5</li><li>6</li><li>6</li><li>6</li><li>6</li><li>6</li><li>6</li><li>6</li><li>6</li><li>6</li><li>6</li><li>6</li><li>6</li></ol>\n"
      ],
      "text/latex": [
       "\\begin{enumerate*}\n",
       "\\item 1\n",
       "\\item 1\n",
       "\\item 1\n",
       "\\item 1\n",
       "\\item 1\n",
       "\\item 1\n",
       "\\item 1\n",
       "\\item 1\n",
       "\\item 1\n",
       "\\item 1\n",
       "\\item 1\n",
       "\\item 1\n",
       "\\item 1\n",
       "\\item 1\n",
       "\\item 1\n",
       "\\item 1\n",
       "\\item 1\n",
       "\\item 1\n",
       "\\item 1\n",
       "\\item 1\n",
       "\\item 2\n",
       "\\item 2\n",
       "\\item 2\n",
       "\\item 2\n",
       "\\item 2\n",
       "\\item 2\n",
       "\\item 2\n",
       "\\item 2\n",
       "\\item 2\n",
       "\\item 2\n",
       "\\item 2\n",
       "\\item 2\n",
       "\\item 2\n",
       "\\item 2\n",
       "\\item 2\n",
       "\\item 2\n",
       "\\item 2\n",
       "\\item 2\n",
       "\\item 2\n",
       "\\item 2\n",
       "\\item 3\n",
       "\\item 3\n",
       "\\item 3\n",
       "\\item 3\n",
       "\\item 3\n",
       "\\item 3\n",
       "\\item 3\n",
       "\\item 3\n",
       "\\item 3\n",
       "\\item 3\n",
       "\\item 3\n",
       "\\item 3\n",
       "\\item 3\n",
       "\\item 3\n",
       "\\item 3\n",
       "\\item 3\n",
       "\\item 3\n",
       "\\item 3\n",
       "\\item 3\n",
       "\\item 4\n",
       "\\item 4\n",
       "\\item 4\n",
       "\\item 4\n",
       "\\item 4\n",
       "\\item 4\n",
       "\\item 4\n",
       "\\item 4\n",
       "\\item 4\n",
       "\\item 4\n",
       "\\item 4\n",
       "\\item 4\n",
       "\\item 4\n",
       "\\item 4\n",
       "\\item 4\n",
       "\\item 5\n",
       "\\item 5\n",
       "\\item 5\n",
       "\\item 5\n",
       "\\item 5\n",
       "\\item 5\n",
       "\\item 5\n",
       "\\item 5\n",
       "\\item 5\n",
       "\\item 5\n",
       "\\item 5\n",
       "\\item 5\n",
       "\\item 5\n",
       "\\item 6\n",
       "\\item 6\n",
       "\\item 6\n",
       "\\item 6\n",
       "\\item 6\n",
       "\\item 6\n",
       "\\item 6\n",
       "\\item 6\n",
       "\\item 6\n",
       "\\item 6\n",
       "\\item 6\n",
       "\\item 6\n",
       "\\end{enumerate*}\n"
      ],
      "text/markdown": [
       "1. 1\n",
       "2. 1\n",
       "3. 1\n",
       "4. 1\n",
       "5. 1\n",
       "6. 1\n",
       "7. 1\n",
       "8. 1\n",
       "9. 1\n",
       "10. 1\n",
       "11. 1\n",
       "12. 1\n",
       "13. 1\n",
       "14. 1\n",
       "15. 1\n",
       "16. 1\n",
       "17. 1\n",
       "18. 1\n",
       "19. 1\n",
       "20. 1\n",
       "21. 2\n",
       "22. 2\n",
       "23. 2\n",
       "24. 2\n",
       "25. 2\n",
       "26. 2\n",
       "27. 2\n",
       "28. 2\n",
       "29. 2\n",
       "30. 2\n",
       "31. 2\n",
       "32. 2\n",
       "33. 2\n",
       "34. 2\n",
       "35. 2\n",
       "36. 2\n",
       "37. 2\n",
       "38. 2\n",
       "39. 2\n",
       "40. 2\n",
       "41. 3\n",
       "42. 3\n",
       "43. 3\n",
       "44. 3\n",
       "45. 3\n",
       "46. 3\n",
       "47. 3\n",
       "48. 3\n",
       "49. 3\n",
       "50. 3\n",
       "51. 3\n",
       "52. 3\n",
       "53. 3\n",
       "54. 3\n",
       "55. 3\n",
       "56. 3\n",
       "57. 3\n",
       "58. 3\n",
       "59. 3\n",
       "60. 4\n",
       "61. 4\n",
       "62. 4\n",
       "63. 4\n",
       "64. 4\n",
       "65. 4\n",
       "66. 4\n",
       "67. 4\n",
       "68. 4\n",
       "69. 4\n",
       "70. 4\n",
       "71. 4\n",
       "72. 4\n",
       "73. 4\n",
       "74. 4\n",
       "75. 5\n",
       "76. 5\n",
       "77. 5\n",
       "78. 5\n",
       "79. 5\n",
       "80. 5\n",
       "81. 5\n",
       "82. 5\n",
       "83. 5\n",
       "84. 5\n",
       "85. 5\n",
       "86. 5\n",
       "87. 5\n",
       "88. 6\n",
       "89. 6\n",
       "90. 6\n",
       "91. 6\n",
       "92. 6\n",
       "93. 6\n",
       "94. 6\n",
       "95. 6\n",
       "96. 6\n",
       "97. 6\n",
       "98. 6\n",
       "99. 6\n",
       "\n",
       "\n"
      ],
      "text/plain": [
       " [1] 1 1 1 1 1 1 1 1 1 1 1 1 1 1 1 1 1 1 1 1 2 2 2 2 2 2 2 2 2 2 2 2 2 2 2 2 2 2\n",
       "[39] 2 2 3 3 3 3 3 3 3 3 3 3 3 3 3 3 3 3 3 3 3 4 4 4 4 4 4 4 4 4 4 4 4 4 4 4 5 5\n",
       "[77] 5 5 5 5 5 5 5 5 5 5 5 6 6 6 6 6 6 6 6 6 6 6 6"
      ]
     },
     "metadata": {},
     "output_type": "display_data"
    }
   ],
   "source": [
    "# bootstrap from the sample\n",
    "# TODO explain bootstrapping\n",
    "diceroll"
   ]
  },
  {
   "cell_type": "code",
   "execution_count": 80,
   "id": "93ad7ee6",
   "metadata": {
    "vscode": {
     "languageId": "r"
    }
   },
   "outputs": [],
   "source": [
    "a = rep(1:6, c(20, 20, 20, 20, 20, 20))"
   ]
  },
  {
   "cell_type": "code",
   "execution_count": 81,
   "id": "0c37b965",
   "metadata": {
    "vscode": {
     "languageId": "r"
    }
   },
   "outputs": [],
   "source": [
    "bootsim <- replicate(1000, {\n",
    "   # sample from *our* sample, with replacement. #TODO explain replacement\n",
    "    samp <- sample(a, replace=TRUE)  # TODO a for diceroll\n",
    "    # calculate the chisq as before\n",
    "    o <- table(samp)\n",
    "    e <- rep(20,6)  # TODO in this case the expected is different, but note in other examples it can change\n",
    "    chisq <- sum((o-e)^2/e) \n",
    "})\n"
   ]
  },
  {
   "cell_type": "code",
   "execution_count": 82,
   "id": "03eb1f06",
   "metadata": {
    "vscode": {
     "languageId": "r"
    }
   },
   "outputs": [
    {
     "data": {
      "image/png": "[encoded data removed]",
      "text/plain": [
       "Plot with title “Histogram of bootsim”"
      ]
     },
     "metadata": {
      "image/png": {
       "height": 420,
       "width": 420
      }
     },
     "output_type": "display_data"
    }
   ],
   "source": [
    "hist(bootsim, col=\"lightblue\")\n",
    "abline(v=quantile(bootsim, c(0.025, 0.975)), col=\"red\")"
   ]
  },
  {
   "cell_type": "code",
   "execution_count": 83,
   "id": "24dfcdc8",
   "metadata": {
    "scrolled": true,
    "vscode": {
     "languageId": "r"
    }
   },
   "outputs": [
    {
     "data": {
      "text/html": [
       "<style>\n",
       ".dl-inline {width: auto; margin:0; padding: 0}\n",
       ".dl-inline>dt, .dl-inline>dd {float: none; width: auto; display: inline-block}\n",
       ".dl-inline>dt::after {content: \":\\0020\"; padding-right: .5ex}\n",
       ".dl-inline>dt:not(:first-of-type) {padding-left: .5ex}\n",
       "</style><dl class=dl-inline><dt>2.5%</dt><dd>0.8</dd><dt>97.5%</dt><dd>12.6</dd></dl>\n"
      ],
      "text/latex": [
       "\\begin{description*}\n",
       "\\item[2.5\\textbackslash{}\\%] 0.8\n",
       "\\item[97.5\\textbackslash{}\\%] 12.6\n",
       "\\end{description*}\n"
      ],
      "text/markdown": [
       "2.5%\n",
       ":   0.897.5%\n",
       ":   12.6\n",
       "\n"
      ],
      "text/plain": [
       " 2.5% 97.5% \n",
       "  0.8  12.6 "
      ]
     },
     "metadata": {},
     "output_type": "display_data"
    }
   ],
   "source": [
    "quantile(bootsim, c(0.025, 0.975))\n",
    "\n",
    "# TODO I am wrong about the bootstrapping for chisq."
   ]
  },
  {
   "cell_type": "markdown",
   "id": "f239f947",
   "metadata": {},
   "source": [
    "------\n",
    "\n",
    "## Chi-squared test for independence\n",
    "\n",
    "If we want to see whether two variables are independent from each other, we can also use a chi-squared test. \n",
    "\n",
    "For example, if we want to see whether the appearance of pokemon is independent of the environment i.e. this dataset:"
   ]
  },
  {
   "cell_type": "code",
   "execution_count": 86,
   "id": "80783cb5",
   "metadata": {
    "vscode": {
     "languageId": "r"
    }
   },
   "outputs": [
    {
     "data": {
      "text/html": [
       "<table class=\"dataframe\">\n",
       "<caption>A matrix: 2 × 2 of type dbl</caption>\n",
       "<thead>\n",
       "\t<tr><th></th><th scope=col>Pikachu</th><th scope=col>Squirtle</th></tr>\n",
       "</thead>\n",
       "<tbody>\n",
       "\t<tr><th scope=row>forest</th><td>54</td><td>23</td></tr>\n",
       "\t<tr><th scope=row>beach</th><td>30</td><td>49</td></tr>\n",
       "</tbody>\n",
       "</table>\n"
      ],
      "text/latex": [
       "A matrix: 2 × 2 of type dbl\n",
       "\\begin{tabular}{r|ll}\n",
       "  & Pikachu & Squirtle\\\\\n",
       "\\hline\n",
       "\tforest & 54 & 23\\\\\n",
       "\tbeach & 30 & 49\\\\\n",
       "\\end{tabular}\n"
      ],
      "text/markdown": [
       "\n",
       "A matrix: 2 × 2 of type dbl\n",
       "\n",
       "| <!--/--> | Pikachu | Squirtle |\n",
       "|---|---|---|\n",
       "| forest | 54 | 23 |\n",
       "| beach | 30 | 49 |\n",
       "\n"
      ],
      "text/plain": [
       "       Pikachu Squirtle\n",
       "forest 54      23      \n",
       "beach  30      49      "
      ]
     },
     "metadata": {},
     "output_type": "display_data"
    }
   ],
   "source": [
    "forest = c(\"Pikachu\"=54, \"Squirtle\"=23)\n",
    "beach = c(\"Pikachu\"=30, \"Squirtle\"=49)\n",
    "(pokemon = rbind(forest, beach))"
   ]
  },
  {
   "cell_type": "markdown",
   "id": "f70cae3a",
   "metadata": {},
   "source": [
    "In this example, if the variables were independent, then we would expect that the land doesn't affect how many of each pokemon we would see, and we would expect them to be equal for each land. \n",
    "\n",
    "Calculating the expected counts. This is different to the just knowing the 20, it would depend on"
   ]
  },
  {
   "cell_type": "code",
   "execution_count": 108,
   "id": "621027bc",
   "metadata": {
    "vscode": {
     "languageId": "r"
    }
   },
   "outputs": [
    {
     "data": {
      "text/html": [
       "<table class=\"dataframe\">\n",
       "<caption>A matrix: 2 × 2 of type dbl</caption>\n",
       "<thead>\n",
       "\t<tr><th></th><th scope=col>Pikachu</th><th scope=col>Squirtle</th></tr>\n",
       "</thead>\n",
       "<tbody>\n",
       "\t<tr><th scope=row>forest</th><td>41.46154</td><td>35.53846</td></tr>\n",
       "\t<tr><th scope=row>beach</th><td>42.53846</td><td>36.46154</td></tr>\n",
       "</tbody>\n",
       "</table>\n"
      ],
      "text/latex": [
       "A matrix: 2 × 2 of type dbl\n",
       "\\begin{tabular}{r|ll}\n",
       "  & Pikachu & Squirtle\\\\\n",
       "\\hline\n",
       "\tforest & 41.46154 & 35.53846\\\\\n",
       "\tbeach & 42.53846 & 36.46154\\\\\n",
       "\\end{tabular}\n"
      ],
      "text/markdown": [
       "\n",
       "A matrix: 2 × 2 of type dbl\n",
       "\n",
       "| <!--/--> | Pikachu | Squirtle |\n",
       "|---|---|---|\n",
       "| forest | 41.46154 | 35.53846 |\n",
       "| beach | 42.53846 | 36.46154 |\n",
       "\n"
      ],
      "text/plain": [
       "       Pikachu  Squirtle\n",
       "forest 41.46154 35.53846\n",
       "beach  42.53846 36.46154"
      ]
     },
     "metadata": {},
     "output_type": "display_data"
    }
   ],
   "source": [
    "landcount <- rowSums(pokemon)\n",
    "speciescount <- colSums(pokemon)\n",
    "\n",
    "# TODO explain this\n",
    "(expectedcount <- outer(landcount, speciescount) / sum(pokemon))"
   ]
  },
  {
   "cell_type": "code",
   "execution_count": 121,
   "id": "2f09ce09",
   "metadata": {
    "vscode": {
     "languageId": "r"
    }
   },
   "outputs": [
    {
     "data": {
      "text/html": [
       "<table class=\"dataframe\">\n",
       "<caption>A matrix: 2 × 2 of type dbl</caption>\n",
       "<thead>\n",
       "\t<tr><th></th><th scope=col>Pikachu</th><th scope=col>Squirtle</th></tr>\n",
       "</thead>\n",
       "<tbody>\n",
       "\t<tr><th scope=row>forest</th><td>0.5384615</td><td>0.4615385</td></tr>\n",
       "\t<tr><th scope=row>beach</th><td>0.5384615</td><td>0.4615385</td></tr>\n",
       "</tbody>\n",
       "</table>\n"
      ],
      "text/latex": [
       "A matrix: 2 × 2 of type dbl\n",
       "\\begin{tabular}{r|ll}\n",
       "  & Pikachu & Squirtle\\\\\n",
       "\\hline\n",
       "\tforest & 0.5384615 & 0.4615385\\\\\n",
       "\tbeach & 0.5384615 & 0.4615385\\\\\n",
       "\\end{tabular}\n"
      ],
      "text/markdown": [
       "\n",
       "A matrix: 2 × 2 of type dbl\n",
       "\n",
       "| <!--/--> | Pikachu | Squirtle |\n",
       "|---|---|---|\n",
       "| forest | 0.5384615 | 0.4615385 |\n",
       "| beach | 0.5384615 | 0.4615385 |\n",
       "\n"
      ],
      "text/plain": [
       "       Pikachu   Squirtle \n",
       "forest 0.5384615 0.4615385\n",
       "beach  0.5384615 0.4615385"
      ]
     },
     "metadata": {},
     "output_type": "display_data"
    }
   ],
   "source": [
    "(e_prob <- expectedcount / landcount)\n",
    "# notice that when we look at the proportions, we expect to see pikachu equally in forest and beach and same with squirtle"
   ]
  },
  {
   "cell_type": "code",
   "execution_count": 132,
   "id": "7fa3bd19",
   "metadata": {
    "scrolled": true,
    "vscode": {
     "languageId": "r"
    }
   },
   "outputs": [
    {
     "data": {
      "text/html": [
       "16.2230572320988"
      ],
      "text/latex": [
       "16.2230572320988"
      ],
      "text/markdown": [
       "16.2230572320988"
      ],
      "text/plain": [
       "[1] 16.22306"
      ]
     },
     "metadata": {},
     "output_type": "display_data"
    }
   ],
   "source": [
    "# calculate the chisq distance\n",
    "(poke_chisq <- sum(((pokemon - expectedcount)^2)/expectedcount))"
   ]
  },
  {
   "cell_type": "code",
   "execution_count": 128,
   "id": "71cea85a",
   "metadata": {
    "vscode": {
     "languageId": "r"
    }
   },
   "outputs": [],
   "source": [
    "pokesim <- replicate(1000, {\n",
    "    sim <- rmultinom(1, sum(pokemon), e_prob)  # TODO.. explain this.\n",
    "    o <- matrix(sim, 2, 2)\n",
    "    e <- outer(rowSums(o), colSums(o))/sum(o)\n",
    "    chisq <- sum((o-e)^2 / e)\n",
    "})"
   ]
  },
  {
   "cell_type": "code",
   "execution_count": 134,
   "id": "cf844239",
   "metadata": {
    "vscode": {
     "languageId": "r"
    }
   },
   "outputs": [
    {
     "data": {
      "image/png": "[encoded data removed]",
      "text/plain": [
       "Plot with title “Histogram of pokesim”"
      ]
     },
     "metadata": {
      "image/png": {
       "height": 420,
       "width": 420
      }
     },
     "output_type": "display_data"
    }
   ],
   "source": [
    "hist(pokesim, xlim=c(0, 20))\n",
    "abline(v=poke_chisq, col=\"red\")"
   ]
  },
  {
   "cell_type": "code",
   "execution_count": 135,
   "id": "0f938f58",
   "metadata": {
    "vscode": {
     "languageId": "r"
    }
   },
   "outputs": [
    {
     "data": {
      "text/html": [
       "0"
      ],
      "text/latex": [
       "0"
      ],
      "text/markdown": [
       "0"
      ],
      "text/plain": [
       "[1] 0"
      ]
     },
     "metadata": {},
     "output_type": "display_data"
    }
   ],
   "source": [
    "mean(pokesim > poke_chisq)"
   ]
  },
  {
   "cell_type": "markdown",
   "id": "3557d6f5",
   "metadata": {},
   "source": [
    "`TODO` explain + formalise hypothesis test. \n",
    "\n",
    "There is a very small probability that the observations we saw were by chance. not independent/"
   ]
  },
  {
   "cell_type": "markdown",
   "id": "6dd5ce0b",
   "metadata": {},
   "source": [
    "---\n",
    "\n",
    "Bootstrapping for a confidence interval"
   ]
  },
  {
   "cell_type": "code",
   "execution_count": 139,
   "id": "17900138",
   "metadata": {
    "vscode": {
     "languageId": "r"
    }
   },
   "outputs": [
    {
     "data": {
      "text/html": [
       "<table class=\"dataframe\">\n",
       "<caption>A matrix: 2 × 2 of type dbl</caption>\n",
       "<thead>\n",
       "\t<tr><th></th><th scope=col>Pikachu</th><th scope=col>Squirtle</th></tr>\n",
       "</thead>\n",
       "<tbody>\n",
       "\t<tr><th scope=row>forest</th><td>0.3461538</td><td>0.1474359</td></tr>\n",
       "\t<tr><th scope=row>beach</th><td>0.1923077</td><td>0.3141026</td></tr>\n",
       "</tbody>\n",
       "</table>\n"
      ],
      "text/latex": [
       "A matrix: 2 × 2 of type dbl\n",
       "\\begin{tabular}{r|ll}\n",
       "  & Pikachu & Squirtle\\\\\n",
       "\\hline\n",
       "\tforest & 0.3461538 & 0.1474359\\\\\n",
       "\tbeach & 0.1923077 & 0.3141026\\\\\n",
       "\\end{tabular}\n"
      ],
      "text/markdown": [
       "\n",
       "A matrix: 2 × 2 of type dbl\n",
       "\n",
       "| <!--/--> | Pikachu | Squirtle |\n",
       "|---|---|---|\n",
       "| forest | 0.3461538 | 0.1474359 |\n",
       "| beach | 0.1923077 | 0.3141026 |\n",
       "\n"
      ],
      "text/plain": [
       "       Pikachu   Squirtle \n",
       "forest 0.3461538 0.1474359\n",
       "beach  0.1923077 0.3141026"
      ]
     },
     "metadata": {},
     "output_type": "display_data"
    }
   ],
   "source": [
    "(proppokemon = prop.table(pokemon))"
   ]
  },
  {
   "cell_type": "code",
   "execution_count": 143,
   "id": "9f2e849b",
   "metadata": {
    "vscode": {
     "languageId": "r"
    }
   },
   "outputs": [
    {
     "data": {
      "text/html": [
       "<style>\n",
       ".list-inline {list-style: none; margin:0; padding: 0}\n",
       ".list-inline>li {display: inline-block}\n",
       ".list-inline>li:not(:last-child)::after {content: \"\\00b7\"; padding: 0 .5ex}\n",
       "</style>\n",
       "<ol class=list-inline><li>54</li><li>30</li><li>23</li><li>49</li></ol>\n"
      ],
      "text/latex": [
       "\\begin{enumerate*}\n",
       "\\item 54\n",
       "\\item 30\n",
       "\\item 23\n",
       "\\item 49\n",
       "\\end{enumerate*}\n"
      ],
      "text/markdown": [
       "1. 54\n",
       "2. 30\n",
       "3. 23\n",
       "4. 49\n",
       "\n",
       "\n"
      ],
      "text/plain": [
       "[1] 54 30 23 49"
      ]
     },
     "metadata": {},
     "output_type": "display_data"
    }
   ],
   "source": [
    "# sample from there with those proportions\n",
    "\n",
    "sample(pokemon)"
   ]
  },
  {
   "cell_type": "markdown",
   "id": "6ec5a6b0",
   "metadata": {},
   "source": [
    "------"
   ]
  }
 ],
 "metadata": {
  "kernelspec": {
   "display_name": "R",
   "language": "R",
   "name": "ir"
  },
  "language_info": {
   "codemirror_mode": "r",
   "file_extension": ".r",
   "mimetype": "text/x-r-source",
   "name": "R",
   "pygments_lexer": "r",
   "version": "4.2.1"
  }
 },
 "nbformat": 4,
 "nbformat_minor": 5
}
